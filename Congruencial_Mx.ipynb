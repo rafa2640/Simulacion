{
 "cells": [
  {
   "cell_type": "code",
   "execution_count": 11,
   "metadata": {
    "collapsed": false,
    "scrolled": true
   },
   "outputs": [
    {
     "name": "stdout",
     "output_type": "stream",
     "text": [
      "('valor x: ', 16.0, ' valor prob(x): ', 0.5517241379310345)\n",
      "('valor x: ', 26.0, ' valor prob(x): ', 0.896551724137931)\n",
      "('valor x: ', 27.0, ' valor prob(x): ', 0.9310344827586207)\n",
      "('valor x: ', 1.0, ' valor prob(x): ', 0.034482758620689655)\n",
      "('valor x: ', 10.0, ' valor prob(x): ', 0.3448275862068966)\n",
      "('valor x: ', 8.0, ' valor prob(x): ', 0.27586206896551724)\n",
      "('valor x: ', 2.0, ' valor prob(x): ', 0.06896551724137931)\n",
      "('valor x: ', 13.0, ' valor prob(x): ', 0.4482758620689655)\n",
      "('valor x: ', 17.0, ' valor prob(x): ', 0.5862068965517241)\n",
      "('valor x: ', 0.0, ' valor prob(x): ', 0.0)\n",
      "('valor x: ', 7.0, ' valor prob(x): ', 0.2413793103448276)\n",
      "('valor x: ', 28.0, ' valor prob(x): ', 0.9655172413793104)\n",
      "('valor x: ', 4.0, ' valor prob(x): ', 0.13793103448275862)\n",
      "('valor x: ', 19.0, ' valor prob(x): ', 0.6551724137931034)\n",
      "('valor x: ', 6.0, ' valor prob(x): ', 0.20689655172413793)\n",
      "('valor x: ', 25.0, ' valor prob(x): ', 0.8620689655172413)\n",
      "('valor x: ', 24.0, ' valor prob(x): ', 0.8275862068965517)\n",
      "('valor x: ', 21.0, ' valor prob(x): ', 0.7241379310344828)\n",
      "('valor x: ', 12.0, ' valor prob(x): ', 0.41379310344827586)\n",
      "('valor x: ', 14.0, ' valor prob(x): ', 0.4827586206896552)\n",
      "promedio:  0.48275862069\n",
      "sumatoria:  1.89774078478\n",
      "desviacion estandar:  0.3160397031\n"
     ]
    }
   ],
   "source": [
    "\n",
    "import numpy as np\n",
    "\n",
    "def congrue_mixt(x, a, b, m):\n",
    "    t = 0\n",
    "    x0 = 0\n",
    "    v=[]\n",
    "    k=0\n",
    "    while k<20:\n",
    "        if (t == 0):\n",
    "            x0 = x\n",
    "        x = (a * x + b) % m\n",
    "        u = (x/m) % 1\n",
    "        v.append(u)\n",
    "\n",
    "        print('valor x: ',x   ,' valor prob(x): ',u)\n",
    "        t = t + 1\n",
    "        k+=1\n",
    "        \n",
    "\n",
    "    promedio=0\n",
    "    suma=0\n",
    "    for i in v:\n",
    "        suma+=i\n",
    "    promedio=suma/len(v)\n",
    "    print 'promedio: ',promedio\n",
    "\n",
    "    xmedia=promedio\n",
    "    sumatoria=0.0\n",
    "    for xi in v:\n",
    "        sumatoria=sumatoria+(xi-promedio)**2\n",
    "\n",
    "    print 'sumatoria: ',sumatoria\n",
    "    desv=np.sqrt((1.0/(len(v)-1.0))*(sumatoria))\n",
    "    print 'desviacion estandar: ',desv\n",
    " \n",
    "def main():\n",
    "    x = 3.0 \n",
    "    a = 5.0 \n",
    "    b = 7.0 \n",
    "    m = 29.0 \n",
    "    congrue_mixt(x,a,b,m)\n",
    " \n",
    "if __name__ == \"__main__\":\n",
    "    main()"
   ]
  },
  {
   "cell_type": "code",
   "execution_count": null,
   "metadata": {
    "collapsed": true
   },
   "outputs": [],
   "source": []
  }
 ],
 "metadata": {
  "kernelspec": {
   "display_name": "Python 2",
   "language": "python",
   "name": "python2"
  },
  "language_info": {
   "codemirror_mode": {
    "name": "ipython",
    "version": 2
   },
   "file_extension": ".py",
   "mimetype": "text/x-python",
   "name": "python",
   "nbconvert_exporter": "python",
   "pygments_lexer": "ipython2",
   "version": "2.7.11"
  }
 },
 "nbformat": 4,
 "nbformat_minor": 0
}
