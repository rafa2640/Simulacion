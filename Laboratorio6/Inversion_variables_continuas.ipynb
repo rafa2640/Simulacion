{
 "cells": [
  {
   "cell_type": "code",
   "execution_count": 6,
   "metadata": {
    "collapsed": false
   },
   "outputs": [
    {
     "data": {
      "image/png": "[encoded data removed]",
      "text/plain": [
       "<matplotlib.figure.Figure at 0x386fb00>"
      ]
     },
     "metadata": {},
     "output_type": "display_data"
    }
   ],
   "source": [
    "from aleatorio import Conmix\n",
    "import numpy as np\n",
    "import matplotlib.pylab as plt\n",
    "\n",
    "def expo_fiinversa(p,l):\n",
    "    \n",
    "    expo = -1*np.log(1-p)/l\n",
    "    return expo\n",
    "\n",
    "\n",
    "def va_conti(l):\n",
    "    N = 1000\n",
    "    u =  Conmix(N)\n",
    "    numeros = []\n",
    "    for i in range(N):\n",
    "        numeros.append(expo_fiinversa(u[i],l))\n",
    "        \n",
    "    return numeros\n",
    "\n",
    "        \n",
    "        \n",
    "w= va_conti(1.5)\n",
    "%matplotlib inline\n",
    "count, bins, ignored = plt.hist(w, 100, normed=True)\n",
    "plt.plot(bins, np.ones_like(bins), linewidth=2, color='green')\n",
    "plt.show()"
   ]
  },
  {
   "cell_type": "code",
   "execution_count": null,
   "metadata": {
    "collapsed": true
   },
   "outputs": [],
   "source": []
  },
  {
   "cell_type": "code",
   "execution_count": null,
   "metadata": {
    "collapsed": true
   },
   "outputs": [],
   "source": []
  }
 ],
 "metadata": {
  "kernelspec": {
   "display_name": "Python 2",
   "language": "python",
   "name": "python2"
  },
  "language_info": {
   "codemirror_mode": {
    "name": "ipython",
    "version": 2
   },
   "file_extension": ".py",
   "mimetype": "text/x-python",
   "name": "python",
   "nbconvert_exporter": "python",
   "pygments_lexer": "ipython2",
   "version": "2.7.11"
  }
 },
 "nbformat": 4,
 "nbformat_minor": 0
}
