{
 "cells": [
  {
   "cell_type": "code",
   "execution_count": 6,
   "metadata": {
    "collapsed": false
   },
   "outputs": [],
   "source": [
    "import matplotlib.pyplot as plt\n",
    "import numpy as np\n",
    "from aleatorio import *\n",
    "\n",
    "def AreaCirculo(radio):\n",
    "    return np.pi*radio\n",
    "\n",
    "radio=3\n",
    "muestras = 1000\n",
    "t=np.linspace(0,AreaCirculo(radio),100);\n",
    "x=radio*np.cos(t);\n",
    "y=radio*np.sin(t);\n",
    "\n",
    "plt.plot(x,y,'-',2);\n",
    "\n",
    "#Con el metodo MidSquare\n",
    "#w = MidSquare(\"23\",muestras)\n",
    "#z = MidSquare(\"15\",muestras)\n",
    "\n",
    "#Con el metodo Congruencial\n",
    "#w= Cm(205,muestras)\n",
    "#z = Cm(45,muestras)\n",
    "\n",
    "w= np.random.uniform(-radio, radio, size=1000)\n",
    "z= np.random.uniform(-radio, radio, size=1000)\n",
    "for i in range(muestras):\n",
    "    if np.sqrt(pow(w[i],2)+pow(z[i],2)) < radio:\n",
    "        plt.plot(w[i],z[i],'bo', alpha=.5)\n",
    "    else:\n",
    "        \n",
    "        plt.scatter(w[i],z[i], marker=\"o\",c='r')\n",
    "\n",
    "plt.show()"
   ]
  },
  {
   "cell_type": "code",
   "execution_count": null,
   "metadata": {
    "collapsed": true
   },
   "outputs": [],
   "source": []
  }
 ],
 "metadata": {
  "kernelspec": {
   "display_name": "Python 2",
   "language": "python",
   "name": "python2"
  },
  "language_info": {
   "codemirror_mode": {
    "name": "ipython",
    "version": 2
   },
   "file_extension": ".py",
   "mimetype": "text/x-python",
   "name": "python",
   "nbconvert_exporter": "python",
   "pygments_lexer": "ipython2",
   "version": "2.7.11"
  }
 },
 "nbformat": 4,
 "nbformat_minor": 0
}
