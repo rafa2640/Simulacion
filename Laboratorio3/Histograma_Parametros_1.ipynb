{
 "cells": [
  {
   "cell_type": "markdown",
   "metadata": {},
   "source": [
    "Se utilizan estos Datos a = 7, c = 1, m= 16"
   ]
  },
  {
   "cell_type": "code",
   "execution_count": 1,
   "metadata": {
    "collapsed": true
   },
   "outputs": [],
   "source": [
    "from aleatorio import *\n",
    "import matplotlib.pylab as plt\n",
    "\n",
    "N = 1000\n",
    "\n",
    "semilla = 7\n",
    "a = 7\n",
    "c = 1\n",
    "m = 16\n",
    "\n",
    "z = Conmix(semilla,a,c,m,N)\n",
    "\n",
    "rangoos= np.zeros(10)\n",
    "\n",
    "\n",
    "for iterator in range(N):\n",
    "    for i in range(1,11):\n",
    "        \n",
    "        div = float(i)/float(10)       \n",
    "        \n",
    "        if(z[iterator]< div and  z[iterator]>= (div-0.1)):\n",
    "            rangoos[i-1] = rangoos[i-1]+1\n",
    "\n",
    "rango =np.arange(0,1,0.1)\n",
    "\n",
    "plt.axes((0.1, 0.2, 0.8, 0.6))  \n",
    "plt.bar(np.arange(10), rangoos)  \n",
    "plt.ylim(0,max(rangoos)+100)  \n",
    "plt.title('rnd')\n",
    "plt.xticks(np.arange(10),rango) \n",
    "plt.show()"
   ]
  },
  {
   "cell_type": "code",
   "execution_count": null,
   "metadata": {
    "collapsed": true
   },
   "outputs": [],
   "source": []
  }
 ],
 "metadata": {
  "kernelspec": {
   "display_name": "Python 2",
   "language": "python",
   "name": "python2"
  },
  "language_info": {
   "codemirror_mode": {
    "name": "ipython",
    "version": 2
   },
   "file_extension": ".py",
   "mimetype": "text/x-python",
   "name": "python",
   "nbconvert_exporter": "python",
   "pygments_lexer": "ipython2",
   "version": "2.7.11"
  }
 },
 "nbformat": 4,
 "nbformat_minor": 0
}
