{
 "cells": [
  {
   "cell_type": "markdown",
   "metadata": {},
   "source": [
    "Se utilizaron estos Datos a=7 , c=1 , m=16547 "
   ]
  },
  {
   "cell_type": "code",
   "execution_count": 5,
   "metadata": {
    "collapsed": false
   },
   "outputs": [
    {
     "data": {
      "image/png": "[encoded data removed]",
      "text/plain": [
       "<matplotlib.figure.Figure at 0x6898f98>"
      ]
     },
     "metadata": {},
     "output_type": "display_data"
    }
   ],
   "source": [
    "from aleatorio import *\n",
    "import matplotlib.pylab as plt\n",
    "%matplotlib inline\n",
    "\n",
    "N = 1000\n",
    "\n",
    "semilla = 7\n",
    "a = 7\n",
    "c = 1\n",
    "m = 16547\n",
    "\n",
    "z = Conmix(semilla,a,c,m,N)\n",
    "\n",
    "rangoos= np.zeros(10)\n",
    "\n",
    "\n",
    "for iterator in range(N):\n",
    "    for i in range(1,11):\n",
    "        \n",
    "        div = float(i)/float(10)       \n",
    "        \n",
    "        if(z[iterator]< div and  z[iterator]>= (div-0.1)):\n",
    "            rangoos[i-1] = rangoos[i-1]+1\n",
    "\n",
    "rango =np.arange(0,1,0.1)\n",
    "\n",
    "\n",
    "med = sum(rangoos)/len(rangoos)\n",
    "plt.axes((0.1, 0.2, 0.8, 0.6))  \n",
    "plt.bar(np.arange(10), rangoos)  \n",
    "plt.ylim(0,max(rangoos)+50)  \n",
    "plt.title('Histograma3')\n",
    "plt.xticks(np.arange(10),rango) \n",
    "\n",
    "N = 10\n",
    "y = np.ones(N)*med\n",
    "x = np.linspace(0, N, N, endpoint=True)\n",
    "plt.plot(x, y,  linewidth=2, color='green')\n",
    "plt.show()"
   ]
  },
  {
   "cell_type": "code",
   "execution_count": null,
   "metadata": {
    "collapsed": true
   },
   "outputs": [],
   "source": []
  }
 ],
 "metadata": {
  "kernelspec": {
   "display_name": "Python 2",
   "language": "python",
   "name": "python2"
  },
  "language_info": {
   "codemirror_mode": {
    "name": "ipython",
    "version": 2
   },
   "file_extension": ".py",
   "mimetype": "text/x-python",
   "name": "python",
   "nbconvert_exporter": "python",
   "pygments_lexer": "ipython2",
   "version": "2.7.11"
  }
 },
 "nbformat": 4,
 "nbformat_minor": 0
}
