{
 "cells": [
  {
   "cell_type": "code",
   "execution_count": 2,
   "metadata": {
    "collapsed": false
   },
   "outputs": [
    {
     "name": "stdout",
     "output_type": "stream",
     "text": [
      "11.5\n",
      "------\n"
     ]
    },
    {
     "data": {
      "image/png": "[encoded data removed]",
      "text/plain": [
       "<matplotlib.figure.Figure at 0x6553e80>"
      ]
     },
     "metadata": {},
     "output_type": "display_data"
    }
   ],
   "source": [
    "from aleato import Conmix,aleatvalue\n",
    "import numpy as np\n",
    "import matplotlib.pylab as plt\n",
    "\n",
    "x = np.arange(2,22)\n",
    "def pobrax():\n",
    "    z=[]\n",
    "    for i in range(1,8):\n",
    "        z.append(i)\n",
    "    for i in range(6):\n",
    "        z.append(8)\n",
    "    for j in range(7,0,-1):\n",
    "        z.append(j)\n",
    "    pj=[]\n",
    "    for i in range(len(z)):\n",
    "        pj.append(float(z[i])/float(104))\n",
    "\n",
    "    return pj\n",
    "\n",
    "def ExpectedValue(x,pobrax):\n",
    "    e_x = []\n",
    "    for index in range( len(x)):\n",
    "        e_x.append(x[index]*pobrax[index]) \n",
    "    ex = np.sum(e_x)\n",
    "    \n",
    "    return ex   \n",
    "\n",
    "    \n",
    "x = np.arange(2,22)\n",
    "pobrax = pobrax()\n",
    "\n",
    "N = 1000\n",
    "print ExpectedValue(x,pobrax)\n",
    "\n",
    "g= aleatvalue(N,x,pobrax) \n",
    "%matplotlib inline\n",
    "    \n",
    "count, bins, ignored = plt.hist(g, 100, normed=True)\n",
    "plt.plot(bins, np.ones_like(bins), linewidth=2, color='r')\n",
    "plt.show()"
   ]
  },
  {
   "cell_type": "code",
   "execution_count": null,
   "metadata": {
    "collapsed": true
   },
   "outputs": [],
   "source": []
  }
 ],
 "metadata": {
  "kernelspec": {
   "display_name": "Python 2",
   "language": "python",
   "name": "python2"
  },
  "language_info": {
   "codemirror_mode": {
    "name": "ipython",
    "version": 2
   },
   "file_extension": ".py",
   "mimetype": "text/x-python",
   "name": "python",
   "nbconvert_exporter": "python",
   "pygments_lexer": "ipython2",
   "version": "2.7.11"
  }
 },
 "nbformat": 4,
 "nbformat_minor": 0
}
