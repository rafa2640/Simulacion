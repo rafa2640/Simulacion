{
 "cells": [
  {
   "cell_type": "code",
   "execution_count": 1,
   "metadata": {
    "collapsed": false
   },
   "outputs": [
    {
     "name": "stdout",
     "output_type": "stream",
     "text": [
      "Tasa de llegada = 6\n",
      "Tasa de servicio = 7\n",
      "Uso del sistema (P):  85.7142857143 %\n",
      "Cantidad de personas en el sistema (Ls):  6.0\n",
      "Cantidad de tiempo en el sistema (Ws):  1.0\n",
      "Cantidad de personas en la cola (Lq):  5.14285714286\n",
      "Cantidad de tiempo en la cola (Wq):  0.857142857143\n",
      "Probabilidad en el cual el servidor está ocioso(Po):  14.2857142857 %\n"
     ]
    }
   ],
   "source": [
    "l = float(input(\"Tasa de llegada = \"))\n",
    "miu = float(input(\"Tasa de servicio = \"))\n",
    "#n = int(input(\"numero de clientes\"))\n",
    "#Si la tasa de llegada es mayor a la tasa del servicio, sistema inestable\n",
    "\n",
    "p = float(0)\n",
    "ls = float(0)\n",
    "ws = float(0)\n",
    "lq = float(0)\n",
    "wq = float(0)\n",
    "po = float(0)\n",
    "\n",
    "p = l / miu\n",
    "ls = l / (miu - l)\n",
    "ws = 1 / (miu - l)\n",
    "lq = (l*l)/(miu*(miu - l))\n",
    "wq = l / (miu*(miu - l))\n",
    "po = 1 - p \n",
    "#pn = (1 - (l/miu))*((l/miu)**n)\n",
    "    \n",
    "print \"Uso del sistema (P): \",(p*100),\"%\"\n",
    "print \"Cantidad de personas en el sistema (Ls): \",ls\n",
    "print \"Cantidad de tiempo en el sistema (Ws): \",ws\n",
    "print \"Cantidad de personas en la cola (Lq): \",lq\n",
    "print \"Cantidad de tiempo en la cola (Wq): \",wq\n",
    "print \"Probabilidad en el cual el servidor está ocioso(Po): \",(po*100),\"%\"\n",
    "#print \"Probabilidad de que se encuentren 'n' clientes en el sistema (Pn): \",(pn*100),\"%\""
   ]
  },
  {
   "cell_type": "code",
   "execution_count": null,
   "metadata": {
    "collapsed": true
   },
   "outputs": [],
   "source": []
  }
 ],
 "metadata": {
  "kernelspec": {
   "display_name": "Python 2",
   "language": "python",
   "name": "python2"
  },
  "language_info": {
   "codemirror_mode": {
    "name": "ipython",
    "version": 2
   },
   "file_extension": ".py",
   "mimetype": "text/x-python",
   "name": "python",
   "nbconvert_exporter": "python",
   "pygments_lexer": "ipython2",
   "version": "2.7.11"
  }
 },
 "nbformat": 4,
 "nbformat_minor": 0
}
